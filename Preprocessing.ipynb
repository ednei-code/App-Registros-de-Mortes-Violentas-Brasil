{
 "cells": [
  {
   "cell_type": "markdown",
   "metadata": {},
   "source": [
    "# ***Ednei Cunha Vicente***"
   ]
  },
  {
   "cell_type": "markdown",
   "metadata": {},
   "source": [
    "Objetivo :\n",
    "    Esse projeto tem como finalidade a criação de um App Web, com dados do IBGE sobre mortes violentas nas regiões brasileiras."
   ]
  },
  {
   "cell_type": "markdown",
   "metadata": {},
   "source": [
    "Fase I : \n",
    "    Preprocessamento dos Dados, será necessário para que os dados venham estar apropriados para criação de mapas e gráficos."
   ]
  },
  {
   "cell_type": "markdown",
   "metadata": {},
   "source": [
    "Este projeto tem como base registro obtidos pelo IBGE, sobre crimes violentos."
   ]
  },
  {
   "cell_type": "code",
   "execution_count": null,
   "metadata": {},
   "outputs": [],
   "source": [
    "#importacao das bibliotecas\n",
    "import folium\n",
    "import pandas as pd \n",
    "import numpy as np\n",
    "import requests\n",
    "import re"
   ]
  },
  {
   "cell_type": "code",
   "execution_count": null,
   "metadata": {},
   "outputs": [],
   "source": [
    "# Versões dos pacotes usados neste jupyter notebook\n",
    "%reload_ext watermark\n",
    "%watermark -a \"Ednei Cunha Vicente\" --iversions"
   ]
  },
  {
   "cell_type": "code",
   "execution_count": null,
   "metadata": {},
   "outputs": [],
   "source": [
    "#importacao dataset\n",
    "df = pd.read_excel('dados/dados_mortes.xlsx')"
   ]
  },
  {
   "cell_type": "code",
   "execution_count": null,
   "metadata": {
    "scrolled": true
   },
   "outputs": [],
   "source": [
    "#visualização dos dados\n",
    "df.head()"
   ]
  },
  {
   "cell_type": "code",
   "execution_count": null,
   "metadata": {},
   "outputs": [],
   "source": [
    "df.columns"
   ]
  },
  {
   "cell_type": "code",
   "execution_count": null,
   "metadata": {},
   "outputs": [],
   "source": [
    "df.info()"
   ]
  },
  {
   "cell_type": "code",
   "execution_count": null,
   "metadata": {},
   "outputs": [],
   "source": [
    "#alterar nome das colunas para facilitar nosso trabalho\n",
    "names = ['Regiao','Homicidio_Doloso_2019',\"homicidio_Doloso_2020\",'Latrocinio_2019','Latrocinio_2020',\n",
    "        'Lesao_corporal_2019','Lesao_corporal_2020','Policia_CVLI_2019',\"Policia_CVLI_2020\",'MDIP_2019',\"MDIP_2020\",\n",
    "        \"MVI_2019\",\"MVI_2020\",\"Taxa_2019\",\"Taxa_2020\",'variacao_2019','variacao_2020']"
   ]
  },
  {
   "cell_type": "code",
   "execution_count": null,
   "metadata": {},
   "outputs": [],
   "source": [
    "#deletar uma coluna que não sera interessante \n",
    "df = df.drop([0])"
   ]
  },
  {
   "cell_type": "code",
   "execution_count": null,
   "metadata": {},
   "outputs": [],
   "source": [
    "df.head()"
   ]
  },
  {
   "cell_type": "code",
   "execution_count": null,
   "metadata": {},
   "outputs": [],
   "source": [
    "df.columns = names\n",
    "df.head()"
   ]
  },
  {
   "cell_type": "code",
   "execution_count": null,
   "metadata": {},
   "outputs": [],
   "source": [
    "df['grupos'].value_counts()"
   ]
  },
  {
   "cell_type": "code",
   "execution_count": null,
   "metadata": {},
   "outputs": [],
   "source": [
    "#deletar coluna que tambem nao sera interessante nessa analise\n",
    "to_drop = ['grupos','variacao_2020']\n",
    "df.drop(to_drop,inplace=True,axis=1)"
   ]
  },
  {
   "cell_type": "code",
   "execution_count": null,
   "metadata": {},
   "outputs": [],
   "source": [
    "df.head(10)"
   ]
  },
  {
   "cell_type": "code",
   "execution_count": null,
   "metadata": {},
   "outputs": [],
   "source": [
    "df = df.drop([1,2,3,4,6,30,21])\n",
    "df.head()"
   ]
  },
  {
   "cell_type": "code",
   "execution_count": null,
   "metadata": {},
   "outputs": [],
   "source": [
    "df.info()"
   ]
  },
  {
   "cell_type": "code",
   "execution_count": null,
   "metadata": {},
   "outputs": [],
   "source": [
    "#usando o camando replace para deixar as variaveis de acordo.\n",
    "df ['Regiao'] = pd.Categorical(df['Regiao'])\n",
    "df[\"Regiao\"] = df['Regiao'].replace(to_replace=['Alagoas (5)'],value='Alagoas')\n",
    "df[\"Regiao\"] = df['Regiao'].replace(to_replace=['Mato Grosso (6)'],value='Mato Grosso')\n",
    "df[\"Regiao\"] = df['Regiao'].replace(to_replace=['Paraíba (5)'],value='Paraíba')\n",
    "df[\"Regiao\"] = df['Regiao'].replace(to_replace=['Pernambuco (5)'],value='Pernambuco')\n",
    "df[\"Regiao\"] = df['Regiao'].replace(to_replace=['Piauí (5)'],value='Piauí')\n",
    "df[\"Regiao\"] = df['Regiao'].replace(to_replace=['Minas Gerais (5) (7)'],value='Minas Gerais')\n",
    "df[\"Regiao\"] = df['Regiao'].replace(to_replace=['São Paulo (8)'],value='São Paulo')\n",
    "df[\"Regiao\"] = df['Regiao'].replace(to_replace=['Rio Grande do Norte (5)'],value='Rio Grande do Norte')\n",
    "df[\"Regiao\"] = df['Regiao'].replace(to_replace=['Mato Grosso do Sul (5)'],value='Mato Grosso do Sul')\n",
    "df[\"Regiao\"] = df['Regiao'].replace(to_replace=['Acre (5)'],value='Acre')\n",
    "df"
   ]
  },
  {
   "cell_type": "code",
   "execution_count": null,
   "metadata": {},
   "outputs": [],
   "source": [
    "headers = {\n",
    "    'Content-Type': 'application/json;charset=UTF-8',\n",
    "    'User-Agent': 'google-colab',\n",
    "    'Accept': 'application/json, text/plain, */*',\n",
    "    'Accept-Encoding': 'gzip, deflate, br',\n",
    "    'Accept-Language': 'pt-BR,pt;q=0.9,en-US;q=0.8,en;q=0.7',\n",
    "    'Connection': 'keep-alive',\n",
    "}"
   ]
  },
  {
   "cell_type": "code",
   "execution_count": null,
   "metadata": {},
   "outputs": [],
   "source": [
    "# url para solicitação de malhas de todas as Unidades da Federação do Brasil no formato geojson\n",
    "meshes_url = 'https://servicodados.ibge.gov.br/api/v2/malhas/?resolucao=2&formato=application/vnd.geo+json'\n",
    "\n",
    "# solicitando dados geojson e atribuindo a variável \n",
    "meshes_data = requests.get(meshes_url, headers=headers).json()"
   ]
  },
  {
   "cell_type": "code",
   "execution_count": null,
   "metadata": {},
   "outputs": [],
   "source": [
    "states_url = 'https://servicodados.ibge.gov.br/api/v1/localidades/estados'"
   ]
  },
  {
   "cell_type": "code",
   "execution_count": null,
   "metadata": {},
   "outputs": [],
   "source": [
    "states_data = requests.get(states_url, headers=headers).json()"
   ]
  },
  {
   "cell_type": "code",
   "execution_count": null,
   "metadata": {},
   "outputs": [],
   "source": [
    "# criação de listas para serem preenchidas pelos dados solicitados pelo IBGE\n",
    "meshes_ids = []\n",
    "states_ids = []\n",
    "states_names = []\n",
    "states_codes = []\n",
    "\n",
    "# preenchendo informações sobre malhas\n",
    "for feature in meshes_data['features']:\n",
    "    meshes_ids.append( str(feature['properties']['codarea']) )\n",
    "\n",
    "meshes_ids.sort()\n",
    "\n",
    "# preenchimento de informações sobre Unidades da Federação\n",
    "for state in states_data:\n",
    "    states_ids.append( str(state['id']) )\n",
    "    states_names.append( state['nome'] )\n",
    "    states_codes.append( state['sigla'] )\n",
    "\n",
    "states_ids.sort()\n",
    "\n",
    "# verificando se os números de identificação correspondem\n",
    "meshes_ids == states_ids"
   ]
  },
  {
   "cell_type": "code",
   "execution_count": null,
   "metadata": {},
   "outputs": [],
   "source": [
    "# criando um dataframe de Unidades Federativas a serem mescladas\n",
    "states = pd.DataFrame( {'id': states_ids, 'nome': states_names, 'sigla': states_codes} )\n",
    "\n",
    "# anexando colunas de coordenadas do centroide\n",
    "states['lat'] = 0\n",
    "states['lng'] = 0\n",
    "\n",
    "states.set_index('id', inplace=True)\n",
    "\n",
    "# recuperando dados do centroide\n",
    "for feature in meshes_data['features']:    \n",
    "    centroid = feature['properties']['centroide']\n",
    "    lat = centroid[1]\n",
    "    lng = centroid[0]\n",
    "    \n",
    "    cod = str(feature['properties']['codarea'])\n",
    "    \n",
    "    states.loc[cod,'lat'] = lat\n",
    "    states.loc[cod,'lng'] = lng\n",
    "\n",
    "states.reset_index(inplace=True)"
   ]
  },
  {
   "cell_type": "code",
   "execution_count": null,
   "metadata": {},
   "outputs": [],
   "source": [
    "states"
   ]
  },
  {
   "cell_type": "code",
   "execution_count": null,
   "metadata": {},
   "outputs": [],
   "source": [
    "df.info()"
   ]
  },
  {
   "cell_type": "code",
   "execution_count": null,
   "metadata": {},
   "outputs": [],
   "source": [
    "# mesclando dataframes\n",
    "df = df.merge(states, left_on='Regiao', right_on='nome').drop(columns=['Regiao'])"
   ]
  },
  {
   "cell_type": "code",
   "execution_count": null,
   "metadata": {},
   "outputs": [],
   "source": [
    "df.info()"
   ]
  },
  {
   "cell_type": "code",
   "execution_count": null,
   "metadata": {},
   "outputs": [],
   "source": [
    "df.head()"
   ]
  },
  {
   "cell_type": "code",
   "execution_count": null,
   "metadata": {},
   "outputs": [],
   "source": [
    "df['nome']"
   ]
  },
  {
   "cell_type": "code",
   "execution_count": null,
   "metadata": {},
   "outputs": [],
   "source": [
    "#salvando em csv\n",
    "df.to_csv(\"dados/novo_df.csv\",index=False)"
   ]
  },
  {
   "cell_type": "markdown",
   "metadata": {},
   "source": [
    "# ***FIM***"
   ]
  }
 ],
 "metadata": {
  "kernelspec": {
   "display_name": "Python 3 (ipykernel)",
   "language": "python",
   "name": "python3"
  },
  "language_info": {
   "codemirror_mode": {
    "name": "ipython",
    "version": 3
   },
   "file_extension": ".py",
   "mimetype": "text/x-python",
   "name": "python",
   "nbconvert_exporter": "python",
   "pygments_lexer": "ipython3",
   "version": "3.7.11"
  }
 },
 "nbformat": 4,
 "nbformat_minor": 2
}
